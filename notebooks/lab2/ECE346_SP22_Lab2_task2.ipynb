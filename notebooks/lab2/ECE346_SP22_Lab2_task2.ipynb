{
  "cells": [
    {
      "cell_type": "markdown",
      "id": "55560fb9-ce4b-4523-b0fe-5d09ec975bf2",
      "metadata": {
        "id": "55560fb9-ce4b-4523-b0fe-5d09ec975bf2"
      },
      "source": [
        "# Lab 2"
      ]
    },
    {
      "cell_type": "markdown",
      "id": "3d415fee-678b-4df4-9551-32bb4f0fb9b8",
      "metadata": {
        "id": "3d415fee-678b-4df4-9551-32bb4f0fb9b8"
      },
      "source": [
        "## Experiment Setup"
      ]
    },
    {
      "cell_type": "markdown",
      "id": "f68d747b-6cd2-4f1c-94e9-4503b3ceebd3",
      "metadata": {
        "id": "f68d747b-6cd2-4f1c-94e9-4503b3ceebd3"
      },
      "source": [
        "### Import python packages"
      ]
    },
    {
      "cell_type": "code",
      "execution_count": null,
      "id": "b0abef99-95e8-410b-8740-e5e6461c1ad2",
      "metadata": {
        "cellView": "form",
        "id": "b0abef99-95e8-410b-8740-e5e6461c1ad2"
      },
      "outputs": [],
      "source": [
        "# @markdown Run this cell to install dependencies. The whole process will take about 30 seconds.\n",
        "%%capture\n",
        "\n",
        "!git clone https://github.com/SafeRoboticsLab/ECE346.git\n",
        "% cd /content\n",
        "! git clone https://github.com/mdolab/pyspline.git \n",
        "% cd pyspline \n",
        "! cp config/defaults/config.LINUX_GFORTRAN.mk config/config.mk \n",
        "! make \n",
        "! pip install .\n",
        "% cd /content/ECE346/ROS_ws/src/lab2/traj_planning_ros/src\n",
        "% pwd\n"
      ]
    },
    {
      "cell_type": "code",
      "execution_count": null,
      "id": "90c35f69-12a9-4c2a-a723-ee5bfee13a88",
      "metadata": {
        "cellView": "form",
        "id": "90c35f69-12a9-4c2a-a723-ee5bfee13a88"
      },
      "outputs": [],
      "source": [
        "# @markdown load dependency\n",
        "import os\n",
        "import time\n",
        "import numpy as np\n",
        "import pickle\n",
        "import csv\n",
        "from matplotlib import pyplot as plt\n",
        "from matplotlib import cm\n",
        "from IPython.display import Image\n",
        "import imageio\n",
        "plt.rcParams['font.family'] = 'serif'\n",
        "plt.rcParams['font.serif'] = ['Times New Roman'] + plt.rcParams['font.serif']\n",
        "\n",
        "from iLQR import Track, iLQR, Dynamics, plot_ellipsoids, Ellipsoid, EllipsoidObj\n",
        "from iLQR import get_agent_FRS, plot_footprint, state2ell"
      ]
    },
    {
      "cell_type": "markdown",
      "id": "qdW3C-1KCCtH",
      "metadata": {
        "id": "qdW3C-1KCCtH"
      },
      "source": [
        "### Set parameters for the planner"
      ]
    },
    {
      "cell_type": "code",
      "execution_count": null,
      "id": "ad4bcc68-8f8f-42b1-bca0-4bdf936a3b4d",
      "metadata": {
        "cellView": "form",
        "id": "ad4bcc68-8f8f-42b1-bca0-4bdf936a3b4d"
      },
      "outputs": [],
      "source": [
        "#@title { run: \"auto\" , form-width: \"30%\"}\n",
        "\n",
        "#@markdown weights in cost\n",
        "\n",
        "w_vel = 4 #@param {type:\"number\"}\n",
        "w_contour =  40#@param {type:\"number\"}\n",
        "w_theta =  0#@param {type:\"number\"}\n",
        "w_accel =  0.1#@param {type:\"number\"}\n",
        "w_delta =  0.1#@param {type:\"number\"}\n",
        "\n",
        "\n",
        "#@markdown weights in soft constraints\n",
        "\n",
        "# parameter for soft constraints\n",
        "q1_v =  0#@param {type:\"number\"}\n",
        "q2_v =  0#@param {type:\"number\"}\n",
        "\n",
        "q1_road = 5#@param {type:\"number\"}\n",
        "q2_road = 10#@param {type:\"number\"}\n",
        "\n",
        "q1_obstacle = 5#@param {type:\"number\"}\n",
        "q2_obstacle = 5#@param {type:\"number\"}\n",
        "\n",
        "q1_lat =  1#@param {type:\"number\"}\n",
        "q2_lat =  5#@param {type:\"number\"}\n",
        "\n",
        "#@markdown iLQR Parameters\n",
        "T = 1 #@param {type:\"number\"}\n",
        "N = 11 #@param {type:\"integer\"}\n",
        "max_itr = 50  #@param {type:\"integer\"}\n",
        "\n",
        "# @markdown Uncertainty in planning\n",
        "sigma_x = 0  # @param {type:\"slider\", min:0, max:0.1, step:0.01}\n",
        "sigma_y = 0  # @param {type:\"slider\", min:0, max:0.1, step:0.01}\n",
        "sigma_v = 0  # @param {type:\"slider\", min:0, max:0.1, step:0.01}\n",
        "sigma_theta = 0  # @param {type:\"slider\", min:0, max:0.1, step:0.01}\n",
        "sigma = np.array([sigma_x, sigma_y, sigma_v, sigma_theta])\n",
        "\n",
        "params = {\n",
        "    'wheelbase': 0.257,\n",
        "    'width': 0.2,\n",
        "    'length': 0.5,\n",
        "    'm': 2.99,\n",
        "    'track_width_R': 0.3,\n",
        "    'track_width_L': 0.3,\n",
        "    'track_offset': 0,\n",
        "    'delta_min': -0.35,\n",
        "    'delta_max': 0.35,\n",
        "    'v_max': 2,\n",
        "    'v_min': 0,\n",
        "    'a_min': -3.5,\n",
        "    'a_max': 3.5,\n",
        "    'alat_max': 5,\n",
        "    'w_vel': w_vel,\n",
        "    'w_contour': w_contour,\n",
        "    'w_theta': w_theta,\n",
        "    'w_accel': w_accel,\n",
        "    'w_delta': w_delta,\n",
        "    'q1_v': q1_v,\n",
        "    'q2_v': q2_v,\n",
        "    'q1_road': q1_road,\n",
        "    'q2_road': q2_road,\n",
        "    'q1_lat': q1_lat,\n",
        "    'q2_lat': q2_lat,\n",
        "    'q1_obs': q1_obstacle,\n",
        "    'q2_obs': q2_obstacle,\n",
        "    'T': T,\n",
        "    'N': N,  # the number of planning steps\n",
        "    'max_itr': max_itr,\n",
        "    'ego_sigma': np.zeros(4),  # the uncertainty in ego agent's dynamics\n",
        "    'other_sigma':sigma,\n",
        "    'track_file': 'outerloop_center_smooth.csv',\n",
        "}"
      ]
    },
    {
      "cell_type": "markdown",
      "id": "b1a88ce7-a4d0-4255-8f45-3707f6d5453c",
      "metadata": {
        "id": "b1a88ce7-a4d0-4255-8f45-3707f6d5453c",
        "jp-MarkdownHeadingCollapsed": true,
        "tags": []
      },
      "source": [
        "### Load track"
      ]
    },
    {
      "cell_type": "code",
      "execution_count": null,
      "id": "2965a97e-0350-4325-9ccd-900a781446b8",
      "metadata": {
        "id": "2965a97e-0350-4325-9ccd-900a781446b8"
      },
      "outputs": [],
      "source": [
        "#@title { display-mode: \"form\" }\n",
        "x = []\n",
        "y = []\n",
        "with open('iLQR/'+params['track_file'], newline='') as f:\n",
        "  spamreader = csv.reader(f, delimiter=',')\n",
        "  for i, row in enumerate(spamreader):\n",
        "    if i > 0:\n",
        "      x.append(float(row[0]))\n",
        "      y.append(float(row[1]))\n",
        "\n",
        "center_line = np.array([x, y])\n",
        "track = Track(\n",
        "    center_line=center_line, width_left=params['track_width_L'],\n",
        "    width_right=params['track_width_R'], loop=False\n",
        ")"
      ]
    },
    {
      "cell_type": "markdown",
      "id": "42aded59-b2bf-4b8f-b9c7-12a068d3e3ac",
      "metadata": {
        "id": "42aded59-b2bf-4b8f-b9c7-12a068d3e3ac"
      },
      "source": [
        "## Task 2: Dynamic Obstacles: other agent's FRS"
      ]
    },
    {
      "cell_type": "markdown",
      "id": "5f180234-47a6-43b9-b879-5137f646f9ed",
      "metadata": {
        "id": "5f180234-47a6-43b9-b879-5137f646f9ed"
      },
      "source": [
        "### Load other agent's policy, nominal trajectory and error dynamics\n",
        "Open a folder `/content/data/` and upload your `xxx.p` files under this folder. Note that one is the policy without noise (used in the iLQR planning) and one is with noise (used in the rollout)."
      ]
    },
    {
      "cell_type": "code",
      "execution_count": null,
      "id": "3b632f31-bc7d-4df9-b52f-eb752ea8f98f",
      "metadata": {
        "cellView": "form",
        "id": "3b632f31-bc7d-4df9-b52f-eb752ea8f98f"
      },
      "outputs": [],
      "source": [
        "# @markdown Load Other Vehicle's policy\n",
        "filepath = os.path.join('/content', 'data')\n",
        "os.makedirs(filepath, exist_ok=True)\n",
        "filename = \"task1_perfect.p\"  # @param {type:\"string\"}\n",
        "predict_pkl = os.path.join(filepath, filename)\n",
        "\n",
        "obstacle = pickle.load(open(predict_pkl, \"rb\"))\n",
        "obs_state = obstacle[0][:4, :, :]\n",
        "obs_ctrl = obstacle[0][4:, :, :]\n",
        "\n",
        "obs_K = obstacle[1]\n",
        "obs_Fx = obstacle[2]\n",
        "obs_Fu = obstacle[3]\n",
        "\n",
        "subfolder = \"task2_high\"  # @param {type:\"string\"}\n",
        "fig_folder = os.path.join(\"/content\", \"figure\", subfolder)"
      ]
    },
    {
      "cell_type": "code",
      "execution_count": null,
      "id": "55fe4214-a260-4f92-82e8-2dc91c6574a8",
      "metadata": {
        "cellView": "form",
        "id": "55fe4214-a260-4f92-82e8-2dc91c6574a8"
      },
      "outputs": [],
      "source": [
        "# @markdown Load Real Agent\n",
        "filename = \"task1_uncertainty.p\" # @param {type:\"string\"}\n",
        "pre_computed = os.path.join(filepath, filename)\n",
        "\n",
        "pre_computed_dict = pickle.load(open(pre_computed, \"rb\"))\n",
        "rollout_state = pre_computed_dict[0][:4, :, :]"
      ]
    },
    {
      "cell_type": "markdown",
      "id": "c6110566-a503-4876-af64-285ccb49c3c0",
      "metadata": {
        "id": "c6110566-a503-4876-af64-285ccb49c3c0"
      },
      "source": [
        "### Initialize"
      ]
    },
    {
      "cell_type": "code",
      "execution_count": null,
      "id": "823e312e-ad89-4c90-acbe-94b87d9a6fa1",
      "metadata": {
        "id": "823e312e-ad89-4c90-acbe-94b87d9a6fa1"
      },
      "outputs": [],
      "source": [
        "solver = iLQR(track, params)\n",
        "pos0, psi0 = track.interp([0])  # The position and yaw on the track.\n",
        "x_cur = np.array([pos0[0], pos0[1], 0, psi0[-1]])\n",
        "init_control = np.zeros((2, params['N']))\n",
        "t_total = 0\n",
        "plot_cover = False\n",
        "\n",
        "# The number of receding iterations, which cannot be longer than\n",
        "# obs_state.shape[-1].\n",
        "itr_receding = obs_state.shape[-1]\n",
        "state_hist = np.zeros((4, itr_receding))\n",
        "control_hist = np.zeros((2, itr_receding))\n",
        "plan_hist = np.zeros((6, params['N'], itr_receding))\n",
        "\n",
        "plt.figure(figsize=(15, 15))\n",
        "fig_prog_folder = os.path.join(fig_folder, \"progress\")\n",
        "os.makedirs(fig_prog_folder, exist_ok=True)"
      ]
    },
    {
      "cell_type": "code",
      "execution_count": null,
      "id": "s6DcFY3Rg51S",
      "metadata": {
        "id": "s6DcFY3Rg51S"
      },
      "outputs": [],
      "source": [
        "# Constructs a static obstacle.\n",
        "ego_a = params['length'] / 2.0\n",
        "ego_b = params['width'] / 2.0\n",
        "ego_q = np.array([0, 5.6])[:, np.newaxis] \n",
        "ego_Q = np.diag([ego_a**2, ego_b**2])\n",
        "static_obs = EllipsoidObj(q=ego_q, Q=ego_Q)\n",
        "static_obs_list = [static_obs for _ in range(params['N'])]\n",
        "\n",
        "# plot initial\n",
        "ell_a = params['length'] / 2.0\n",
        "ell_b = params['width'] / 2.0\n",
        "wheelbase = params['wheelbase']\n",
        "ell_q = np.array([wheelbase / 2, 0])[:, np.newaxis]\n",
        "ell_Q = np.diag([ell_a**2, ell_b**2])\n",
        "agent = EllipsoidObj(q=ell_q, Q=ell_Q)\n",
        "\n",
        "track.plot_track()\n",
        "static_obs.plot(plt.gca(), color='k', plot_center=False)\n",
        "\n",
        "# plot ego agent\n",
        "ego = state2ell(x_cur, agent)\n",
        "ego.plot(plt.gca(), color='b', plot_center=False)\n",
        "\n",
        "# plot other agent\n",
        "other = state2ell(obs_state[:, 0, 0], agent)\n",
        "other.plot(plt.gca(), color='r', plot_center=False)"
      ]
    },
    {
      "cell_type": "markdown",
      "id": "5f74fb87-3bed-4b51-9ffc-c7df6523dd13",
      "metadata": {
        "id": "5f74fb87-3bed-4b51-9ffc-c7df6523dd13"
      },
      "source": [
        "### iLQR Planning"
      ]
    },
    {
      "cell_type": "code",
      "execution_count": null,
      "id": "daebb1cd-efe1-4531-b699-146bca0e0834",
      "metadata": {
        "id": "daebb1cd-efe1-4531-b699-146bca0e0834"
      },
      "outputs": [],
      "source": [
        "for i in range(itr_receding):\n",
        "  # Gets other agent's FRS given the error system dynamics, linear policy,\n",
        "  # nominal trajectory, and disturbance ball.\n",
        "  frs = get_agent_FRS(\n",
        "      obs_Fx[:, :, :, i],\n",
        "      obs_Fu[:, :, :, i],\n",
        "      obs_K[:, :, :, i],\n",
        "      obs_state[:, :, i],\n",
        "      dstb=Ellipsoid(q=np.zeros((4, 1)), Q=np.diag(params['other_sigma'])),\n",
        "  )\n",
        "\n",
        "  # Plans the trajectory by using iLQR.\n",
        "  states, controls, t_process, status, theta, _, _, _ = (\n",
        "      solver.solve(x_cur, controls=init_control, obs_list=[static_obs_list, frs])\n",
        "  )\n",
        "\n",
        "  # Executes the first control.\n",
        "  x_cur = solver.dynamics.forward_step(\n",
        "      x_cur, controls[:, 0], step=10, noise=params['ego_sigma']\n",
        "  )[0]\n",
        "  print(\n",
        "      \"[{}]: solver returns status {} and uses {:.3f}.\".format(\n",
        "          i, status, t_process\n",
        "      ),\n",
        "      end='\\r'\n",
        "  )\n",
        "  t_total += t_process\n",
        "\n",
        "  # Records planning history, states and controls.\n",
        "  plan_hist[:4, :, i] = states\n",
        "  plan_hist[4:, :, i] = controls\n",
        "  state_hist[:, i] = states[:, 0]\n",
        "  control_hist[:, i] = controls[:, 0]\n",
        "\n",
        "  # Updates the nominal control signal for next receding horizon (The first\n",
        "  # control is executed).\n",
        "  init_control[:, :-1] = controls[:, 1:]\n",
        "\n",
        "  # Plots the current progress with other agent's FRS.\n",
        "  plt.clf()\n",
        "  track.plot_track()\n",
        "  plot_ellipsoids(\n",
        "      plt.gca(), frs, arg_list=[dict(c='r', linewidth=1.)], dims=[0, 1], N=50,\n",
        "      plot_center=False, use_alpha=True\n",
        "  )\n",
        "  plot_ellipsoids(\n",
        "      plt.gca(), static_obs_list[0:1], arg_list=[dict(c='k', linewidth=1.)],\n",
        "      dims=[0, 1], N=50, plot_center=False, use_alpha=True\n",
        "  )\n",
        "  plot_ellipsoids(\n",
        "      plt.gca(), [solver.cost.soft_constraints.ego_ell[0]],\n",
        "      arg_list=[dict(c='b')], dims=[0, 1], N=50, plot_center=False\n",
        "  )\n",
        "  if plot_cover:  # plot circles that cover the footprint.\n",
        "    frs[0].plot_circ(plt.gca())\n",
        "    solver.cost.soft_constraints.ego_ell[0].plot_circ(plt.gca())\n",
        "  plt.plot(states[0, :], states[1, :], linewidth=2, c='b')\n",
        "  sc = plt.scatter(\n",
        "      state_hist[0, :i + 1], state_hist[1, :i + 1], s=24,\n",
        "      c=state_hist[2, :i + 1], cmap=cm.jet, vmin=0, vmax=params['v_max'],\n",
        "      edgecolor='none', marker='o'\n",
        "  )\n",
        "  cbar = plt.colorbar(sc)\n",
        "  cbar.set_label(r\"velocity [$m/s$]\", size=20)\n",
        "  plt.axis('equal')\n",
        "  plt.savefig(os.path.join(fig_prog_folder, str(i)+\".png\"), dpi=200)\n",
        "\n",
        "print(\"Planning uses {:.3f}.\".format(t_total))\n",
        "plt.show()\n",
        "plt.close('All')"
      ]
    },
    {
      "cell_type": "markdown",
      "id": "ae610484-b35f-44cf-972e-970278e69e5d",
      "metadata": {
        "id": "ae610484-b35f-44cf-972e-970278e69e5d"
      },
      "source": [
        "### Visualize"
      ]
    },
    {
      "cell_type": "code",
      "execution_count": null,
      "id": "9a04dbcb-b960-4cf4-831a-0a164c05d8de",
      "metadata": {
        "id": "9a04dbcb-b960-4cf4-831a-0a164c05d8de"
      },
      "outputs": [],
      "source": [
        "plt.figure(figsize=(15, 15))\n",
        "track.plot_track()\n",
        "static_obs.plot(plt.gca(), color='k', plot_center=False)\n",
        "plt.plot(state_hist[0, :], state_hist[1, :], 'b-o', linewidth=3, markersize=8)\n",
        "plt.plot(\n",
        "    obs_state[0, :state_hist.shape[1]], obs_state[1, :state_hist.shape[1]],\n",
        "    'r--o', linewidth=3, markersize=8\n",
        ")\n",
        "plot_footprint(plt.gca(), state_hist[:, :-1], color=\"b\")\n",
        "\n",
        "plt.title(\"Trajectory\")\n",
        "plt.savefig(os.path.join(fig_folder, \"traj.png\"), dpi=200)\n",
        "\n",
        "# velocity\n",
        "plt.figure(figsize=(15, 15))\n",
        "track.plot_track()\n",
        "static_obs.plot(plt.gca(), color='k', plot_center=False)\n",
        "sc = plt.scatter(\n",
        "    state_hist[0, :], state_hist[1, :], s=80, c=state_hist[2, :], cmap=cm.jet,\n",
        "    vmin=params['v_min'], vmax=params['v_max'], edgecolor='none', marker='o'\n",
        ")\n",
        "cbar = plt.colorbar(sc)\n",
        "cbar.set_label(r\"Velocity [$m/s$]\", size=20)\n",
        "plt.savefig(os.path.join(fig_folder, \"vel.png\"), dpi=200)\n",
        "\n",
        "# Longitudinal Accel\n",
        "plt.figure(figsize=(15, 15))\n",
        "track.plot_track()\n",
        "static_obs.plot(plt.gca(), color='k', plot_center=False)\n",
        "sc = plt.scatter(\n",
        "    state_hist[0, :], state_hist[1, :], s=80, c=control_hist[0, :],\n",
        "    cmap=cm.jet, vmin=params['a_min'], vmax=params['a_max'], edgecolor='none',\n",
        "    marker='o'\n",
        ")\n",
        "cbar = plt.colorbar(sc)\n",
        "cbar.set_label(r\"Longitudinal Accel [$m/s^2$]\", size=20)\n",
        "plt.savefig(os.path.join(fig_folder, \"long_acc.png\"), dpi=200)\n",
        "\n",
        "# Longitudinal Accel\n",
        "plt.figure(figsize=(15, 15))\n",
        "track.plot_track()\n",
        "static_obs.plot(plt.gca(), color='k', plot_center=False)\n",
        "a_lat = np.abs(state_hist[2, :]**2 * np.tan(control_hist[1, :]) / 0.257)\n",
        "# print(a_lat)\n",
        "sc = plt.scatter(\n",
        "    state_hist[0, :], state_hist[1, :], s=80, c=a_lat, cmap=cm.jet, vmin=0,\n",
        "    vmax=params['alat_max'], edgecolor='none', marker='o'\n",
        ")\n",
        "cbar = plt.colorbar(sc)\n",
        "cbar.set_label(r\"Lateral Accel [$m/s^2$]\", size=20)\n",
        "plt.savefig(os.path.join(fig_folder, \"lat_acc.png\"), dpi=200)\n",
        "plt.close(\"all\")"
      ]
    },
    {
      "cell_type": "code",
      "execution_count": null,
      "id": "0be2ac2e-35e9-4600-834a-842c382bcb99",
      "metadata": {
        "id": "0be2ac2e-35e9-4600-834a-842c382bcb99"
      },
      "outputs": [],
      "source": [
        "fig_rollout_folder = os.path.join(fig_folder, \"rollout\")\n",
        "os.makedirs(fig_rollout_folder, exist_ok=True)\n",
        "\n",
        "other_dyn = Dynamics(params)\n",
        "traj_length = state_hist.shape[1]"
      ]
    },
    {
      "cell_type": "code",
      "execution_count": null,
      "id": "ab72a340-0920-4f74-9158-b746c63ed612",
      "metadata": {
        "id": "ab72a340-0920-4f74-9158-b746c63ed612"
      },
      "outputs": [],
      "source": [
        "fig, ax = plt.subplots(1, 1, figsize=(8, 8))\n",
        "for i in range(traj_length):\n",
        "  print(i, end='\\r')\n",
        "  ax.clear()\n",
        "  track.plot_track()\n",
        "  static_obs.plot(plt.gca(), color='k', plot_center=False)\n",
        "  \n",
        "  # plot ego agent\n",
        "  ego = state2ell(state_hist[:, i], agent)\n",
        "  ego.plot(ax, color='b', plot_center=False)\n",
        "  \n",
        "  # plot other agent\n",
        "  other = state2ell(rollout_state[:, 0, i], agent)\n",
        "  other.plot(ax, color='r', plot_center=False)\n",
        "  \n",
        "  fig.savefig(os.path.join(fig_rollout_folder, str(i)+\".png\"), dpi=200)\n",
        "plt.close()\n",
        "print(\"Finish rollout\")  "
      ]
    },
    {
      "cell_type": "code",
      "execution_count": null,
      "id": "7bfb51f3-4d00-4b78-b744-1b8816fb3ac0",
      "metadata": {
        "id": "7bfb51f3-4d00-4b78-b744-1b8816fb3ac0"
      },
      "outputs": [],
      "source": [
        "gif_path = os.path.join(fig_folder, 'rollout.gif')\n",
        "with imageio.get_writer(gif_path, mode='I') as writer:\n",
        "  for i in range(traj_length):\n",
        "    print(i, end='\\r')\n",
        "    filename = os.path.join(fig_rollout_folder, str(i)+\".png\")\n",
        "    image = imageio.imread(filename)\n",
        "    writer.append_data(image)\n",
        "Image(open(gif_path,'rb').read(), width=400)"
      ]
    },
    {
      "cell_type": "code",
      "execution_count": null,
      "id": "e947ad5b-6614-47e7-b7ed-ce59661d958e",
      "metadata": {
        "id": "e947ad5b-6614-47e7-b7ed-ce59661d958e"
      },
      "outputs": [],
      "source": [
        "gif_path = os.path.join(fig_folder, 'plan.gif')\n",
        "with imageio.get_writer(gif_path, mode='I') as writer:\n",
        "  for i in range(itr_receding):\n",
        "    print(i, end='\\r')\n",
        "    filename = os.path.join(fig_prog_folder, str(i)+\".png\")\n",
        "    image = imageio.imread(filename)\n",
        "    writer.append_data(image)\n",
        "Image(open(gif_path,'rb').read(), width=400)"
      ]
    }
  ],
  "metadata": {
    "colab": {
      "collapsed_sections": [],
      "name": "lab2_task2.ipynb",
      "provenance": []
    },
    "kernelspec": {
      "display_name": "carlab",
      "language": "python",
      "name": "carlab"
    },
    "language_info": {
      "codemirror_mode": {
        "name": "ipython",
        "version": 3
      },
      "file_extension": ".py",
      "mimetype": "text/x-python",
      "name": "python",
      "nbconvert_exporter": "python",
      "pygments_lexer": "ipython3",
      "version": "3.8.12"
    }
  },
  "nbformat": 4,
  "nbformat_minor": 5
}
